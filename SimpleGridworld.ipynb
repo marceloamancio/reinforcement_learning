{
  "nbformat": 4,
  "nbformat_minor": 0,
  "metadata": {
    "colab": {
      "name": "00_gridworld.ipynb",
      "provenance": [],
      "authorship_tag": "ABX9TyPO6F/PD0AmULwQmx/MxmzS"
    },
    "kernelspec": {
      "name": "python3",
      "display_name": "Python 3"
    }
  },
  "cells": [
    {
      "cell_type": "markdown",
      "metadata": {
        "id": "Vc2qQLicMHZ2"
      },
      "source": [
        "# Gridworld\n",
        "* Very simple gridworld experiments"
      ]
    },
    {
      "cell_type": "code",
      "metadata": {
        "id": "W03F5li1wgpB",
        "outputId": "55a2a716-9c6d-4fc1-c9ce-8fb9ff2ef4d7",
        "colab": {
          "base_uri": "https://localhost:8080/"
        }
      },
      "source": [
        "gridworld = [\n",
        "         [\"\", \"b\", \"b\", \"\", \"\", \"eH\"],\n",
        "         [\"\", \"\", \"\", \"\", \"\", \"eU\"],\n",
        "         [\"\", \"\", \"\", \"b\", \"\", \"\"],\n",
        "         [\"\", \"\", \"\", \"b\", \"\", \"\"],\n",
        "         [\"s\", \"\", \"\", \"\", \"\", \"\"]\n",
        "]\n",
        "m = len(world)\n",
        "n = len(world[0])\n",
        "print(\"mxn shape\", m,n)"
      ],
      "execution_count": 213,
      "outputs": [
        {
          "output_type": "stream",
          "text": [
            "mxn shape 5 6\n"
          ],
          "name": "stdout"
        }
      ]
    },
    {
      "cell_type": "code",
      "metadata": {
        "id": "z2KMDsEwwHMb",
        "outputId": "5d4c5a16-db8d-474a-be34-400886296cfc",
        "colab": {
          "base_uri": "https://localhost:8080/"
        }
      },
      "source": [
        "reward_f = np.array([[-1.0, -1.0, -1.0, -1.0, -1.0, 10.0],\n",
        "                   [-1.0, -1.0, -1.0, -1.0, -1.0, -10.0],\n",
        "                   [-1.0, -1.0, -1.0, -1.0, -1.0, -1.0],\n",
        "                   [-1.0, -1.0, -1.0, -1.0, -1.0, -1.0],\n",
        "                   [-1.0, -1.0, -1.0, -1.0, -1.0, -1.0]]) \n",
        "\n",
        "print(\"value shape\", value.shape)\n",
        "print(value[0][0])"
      ],
      "execution_count": 214,
      "outputs": [
        {
          "output_type": "stream",
          "text": [
            "value shape (5, 6)\n",
            "-1.0\n"
          ],
          "name": "stdout"
        }
      ]
    },
    {
      "cell_type": "markdown",
      "metadata": {
        "id": "uR1ffV2lyYVm"
      },
      "source": [
        "---"
      ]
    },
    {
      "cell_type": "markdown",
      "metadata": {
        "id": "zpLyuAxUMcUi"
      },
      "source": [
        "# Value function in a **Markov Random Process**\n",
        "* 0.25% chance of going UP, DOWN, LEFT or RIGHT.\n",
        "* Value iteration algorithm:\n",
        "   * $ V_{t+1}(s) = R_t + \\gamma * \\sum_{s'}{ P(s'|s) * V_t(s') } $"
      ]
    },
    {
      "cell_type": "code",
      "metadata": {
        "id": "PFL-TD89yYzm"
      },
      "source": [
        "\n",
        "def calc_value_function(gridworld, reward_f, rate, k_epochs):\n",
        "  m,n = len(gridworld), len(gridworld[0])\n",
        "  value_f = np.zeros((m,n))\n",
        "  value_backup = np.zeros((m,n))\n",
        "  \n",
        "\n",
        "  for k in range(k_epochs):\n",
        "    for i in range(m):\n",
        "      for j in range(n):\n",
        "        if gridworld[i][j] in [\"\", \"s\"]:\n",
        "          # for possible ways to move\n",
        "          c_left = (i, 0 if j == 0 else j-1)\n",
        "          c_right = (i, n-1 if j == n-1 else j+1)\n",
        "          c_up = (0 if i==0 else i-1, j)\n",
        "          c_down = (m-1 if i==(m-1) else i+1, j)\n",
        "\n",
        "          # keep in the same cell if neighbour is blocked\n",
        "          c_left = (i,j) if gridworld[c_left[0]][c_left[1]] == 'b' else c_left\n",
        "          c_right = (i,j) if gridworld[c_right[0]][c_right[1]] == 'b' else c_right\n",
        "          c_up = (i,j) if gridworld[c_up[0]][c_up[1]] == 'b' else c_up\n",
        "          c_down = (i,j) if gridworld[c_down[0]][c_down[1]] == 'b' else c_down\n",
        "\n",
        "          value_backup[i][j] = reward_f[i][j] + rate * (  (1/4) * value_f[c_left[0], c_left[1]] + \n",
        "                                                          (1/4) * value_f[c_right[0], c_right[1]] + \n",
        "                                                          (1/4) * value_f[c_up[0], c_up[1]] + \n",
        "                                                          (1/4) * value_f[c_down[0], c_down[1]])\n",
        "          \n",
        "          value_f = value_backup.copy()\n",
        "  return value_f\n",
        "\n",
        "\n"
      ],
      "execution_count": 215,
      "outputs": []
    },
    {
      "cell_type": "markdown",
      "metadata": {
        "id": "bg0LrR48KH6M"
      },
      "source": [
        "# **lambda rate** low\n",
        "* myopic evaluation (see only immediate reward)"
      ]
    },
    {
      "cell_type": "code",
      "metadata": {
        "id": "jeOFsOIS67Tg",
        "outputId": "d1077df9-9482-41ac-d1d8-78a89bfba2c0",
        "colab": {
          "base_uri": "https://localhost:8080/"
        }
      },
      "source": [
        "rate = 0.001\n",
        "v = calc_value_function(gridworld, reward_f, rate, 3000)\n",
        "\n",
        "for i in range(v.shape[0]):\n",
        "  print(np.around(v[i],2))"
      ],
      "execution_count": 216,
      "outputs": [
        {
          "output_type": "stream",
          "text": [
            "[-1.  0.  0. -1. -1.  0.]\n",
            "[-1. -1. -1. -1. -1.  0.]\n",
            "[-1. -1. -1.  0. -1. -1.]\n",
            "[-1. -1. -1.  0. -1. -1.]\n",
            "[-1. -1. -1. -1. -1. -1.]\n"
          ],
          "name": "stdout"
        }
      ]
    },
    {
      "cell_type": "code",
      "metadata": {
        "id": "u6Jzt3K-7EY2",
        "outputId": "657b3005-144a-4a27-8e91-a435a38aff30",
        "colab": {
          "base_uri": "https://localhost:8080/"
        }
      },
      "source": [
        "rate = 0.2\n",
        "v = calc_value_function(gridworld, reward_f, rate, 3000)\n",
        "\n",
        "for i in range(v.shape[0]):\n",
        "  print(np.around(v[i],2))"
      ],
      "execution_count": 217,
      "outputs": [
        {
          "output_type": "stream",
          "text": [
            "[-1.25  0.    0.   -1.25 -1.18  0.  ]\n",
            "[-1.25 -1.25 -1.25 -1.25 -1.18  0.  ]\n",
            "[-1.25 -1.25 -1.25  0.   -1.24 -1.18]\n",
            "[-1.25 -1.25 -1.25  0.   -1.25 -1.25]\n",
            "[-1.25 -1.25 -1.25 -1.25 -1.25 -1.25]\n"
          ],
          "name": "stdout"
        }
      ]
    },
    {
      "cell_type": "code",
      "metadata": {
        "id": "F9N-xSjOKpsx",
        "outputId": "5ed27059-e230-4015-b551-92f75d6b8793",
        "colab": {
          "base_uri": "https://localhost:8080/"
        }
      },
      "source": [
        "rate = 0.5\n",
        "v = calc_value_function(gridworld, reward_f, rate, 3000)\n",
        "\n",
        "for i in range(v.shape[0]):\n",
        "  print(np.around(v[i],2))"
      ],
      "execution_count": 218,
      "outputs": [
        {
          "output_type": "stream",
          "text": [
            "[-2.    0.    0.   -1.93 -1.66  0.  ]\n",
            "[-2.   -2.   -1.99 -1.95 -1.69  0.  ]\n",
            "[-2.   -2.   -2.    0.   -1.91 -1.69]\n",
            "[-2.   -2.   -2.    0.   -1.98 -1.95]\n",
            "[-2.   -2.   -2.   -2.   -2.   -1.99]\n"
          ],
          "name": "stdout"
        }
      ]
    },
    {
      "cell_type": "markdown",
      "metadata": {
        "id": "xxmbODUeK8x6"
      },
      "source": [
        "# lambda **rate high**\n",
        "* far-sighted evaluation\n",
        "\n"
      ]
    },
    {
      "cell_type": "code",
      "metadata": {
        "id": "dR3jhw7FKt1D",
        "outputId": "75cec762-ed62-4484-f12e-681710f2ca16",
        "colab": {
          "base_uri": "https://localhost:8080/"
        }
      },
      "source": [
        "rate = 0.9999999999\n",
        "v = calc_value_function(gridworld, reward_f, rate, 3000)\n",
        "\n",
        "for i in range(v.shape[0]):\n",
        "  print(np.around(v[i],2))"
      ],
      "execution_count": 221,
      "outputs": [
        {
          "output_type": "stream",
          "text": [
            "[-125.29    0.      0.    -45.89  -27.93    0.  ]\n",
            "[-121.29 -112.78  -95.8   -59.86  -33.89    0.  ]\n",
            "[-121.79 -117.25 -110.76    0.    -43.77  -34.18]\n",
            "[-122.85 -119.66 -115.22    0.    -59.23  -54.79]\n",
            "[-123.09 -119.33 -111.25  -95.18  -75.12  -66.95]\n"
          ],
          "name": "stdout"
        }
      ]
    },
    {
      "cell_type": "markdown",
      "metadata": {
        "id": "1r2nDueyLSoA"
      },
      "source": [
        "# Trapped path\n"
      ]
    },
    {
      "cell_type": "code",
      "metadata": {
        "id": "JePvaUBlLWLg"
      },
      "source": [
        "gridworld = [\n",
        "         [\"\", \"b\", \"b\", \"\", \"\", \"eH\"],\n",
        "         [\"\", \"\", \"\", \"\", \"\", \"eU\"],\n",
        "         [\"\", \"b\", \"b\", \"b\", \"\", \"\"],\n",
        "         [\"\", \"b\", \"\", \"b\", \"\", \"\"],\n",
        "         [\"s\", \"b\", \"\", \"b\", \"\", \"\"]\n",
        "]"
      ],
      "execution_count": 222,
      "outputs": []
    },
    {
      "cell_type": "markdown",
      "metadata": {
        "id": "f1I6uybwLleJ"
      },
      "source": [
        "* trapped states show no difference in evaluation for not high enogh lambda rates"
      ]
    },
    {
      "cell_type": "code",
      "metadata": {
        "id": "Mrjveb2HLWOo",
        "outputId": "582f7a53-24eb-4761-ba5f-9a1576d1db2d",
        "colab": {
          "base_uri": "https://localhost:8080/"
        }
      },
      "source": [
        "rate = 0.8\n",
        "v = calc_value_function(gridworld, reward_f, rate, 3000)\n",
        "\n",
        "for i in range(v.shape[0]):\n",
        "  print(np.around(v[i],2))"
      ],
      "execution_count": 223,
      "outputs": [
        {
          "output_type": "stream",
          "text": [
            "[-4.98  0.    0.   -4.13 -3.1   0.  ]\n",
            "[-4.97 -4.9  -4.73 -4.29 -3.29  0.  ]\n",
            "[-4.99  0.    0.    0.   -4.05 -3.37]\n",
            "[-4.99  0.   -5.    0.   -4.56 -4.41]\n",
            "[-5.    0.   -5.    0.   -4.76 -4.72]\n"
          ],
          "name": "stdout"
        }
      ]
    },
    {
      "cell_type": "markdown",
      "metadata": {
        "id": "LQ1WghxeL7Ry"
      },
      "source": [
        "* here the trapped states are more visible due to a higher **lambda rate**:"
      ]
    },
    {
      "cell_type": "code",
      "metadata": {
        "id": "IRCtLFMoLzq5",
        "outputId": "2c230181-f6de-4c6e-8a29-35f426d8f3e6",
        "colab": {
          "base_uri": "https://localhost:8080/"
        }
      },
      "source": [
        "rate = 0.99999\n",
        "v = calc_value_function(gridworld, reward_f, rate, 3000)\n",
        "\n",
        "for i in range(v.shape[0]):\n",
        "  print(np.around(v[i],2))"
      ],
      "execution_count": 226,
      "outputs": [
        {
          "output_type": "stream",
          "text": [
            "[-122.5     0.      0.    -36.16  -21.74    0.  ]\n",
            "[-118.5   -98.53  -74.56  -46.59  -25.05    0.  ]\n",
            "[-130.49    0.      0.      0.    -27.88  -21.16]\n",
            "[ -138.48     0.   -3370.16     0.     -33.44   -31.6 ]\n",
            "[ -142.47     0.   -3370.71     0.     -36.82   -36.21]\n"
          ],
          "name": "stdout"
        }
      ]
    },
    {
      "cell_type": "markdown",
      "metadata": {
        "id": "CV9eB6Ba76j1"
      },
      "source": [
        "---"
      ]
    }
  ]
}